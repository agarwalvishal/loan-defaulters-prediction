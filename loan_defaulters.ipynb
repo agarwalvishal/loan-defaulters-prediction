{
 "cells": [
  {
   "cell_type": "code",
   "execution_count": 1,
   "metadata": {
    "collapsed": true
   },
   "outputs": [],
   "source": [
    "import pandas as pd\n",
    "import numpy as np\n",
    "import matplotlib.pyplot as plt\n",
    "import re"
   ]
  },
  {
   "cell_type": "code",
   "execution_count": 2,
   "metadata": {
    "collapsed": true
   },
   "outputs": [],
   "source": [
    "# Reading the files\n",
    "train = pd.read_csv('train_data.csv', encoding = \"ISO-8859-1\", low_memory=False)\n",
    "test = pd.read_csv('test_data.csv')"
   ]
  },
  {
   "cell_type": "code",
   "execution_count": 3,
   "metadata": {
    "collapsed": true
   },
   "outputs": [],
   "source": [
    "# Store the loan_status values in target\n",
    "target = train.loan_status.values\n",
    "\n",
    "# Drop the column loan_status from train_data\n",
    "train.drop('loan_status', axis = 1, inplace = True)"
   ]
  },
  {
   "cell_type": "code",
   "execution_count": 4,
   "metadata": {
    "collapsed": true
   },
   "outputs": [],
   "source": [
    "size_train = train.shape[0]\n",
    "size_test = test.shape[0]\n",
    "\n",
    "# Append test_data to train_data\n",
    "full_df = train.append(test)"
   ]
  },
  {
   "cell_type": "markdown",
   "metadata": {},
   "source": [
    "### Data Cleansing"
   ]
  },
  {
   "cell_type": "code",
   "execution_count": 5,
   "metadata": {
    "collapsed": true
   },
   "outputs": [],
   "source": [
    "# Drop unrequired columns\n",
    "drop_cols = ['emp_title', 'batch_enrolled', 'title', 'pymnt_plan']\n",
    "full_df.drop(drop_cols, axis = 1, inplace = True)"
   ]
  },
  {
   "cell_type": "code",
   "execution_count": 6,
   "metadata": {
    "collapsed": true
   },
   "outputs": [],
   "source": [
    "# Helper functions to clean data\n",
    "\n",
    "def clean_emp_length(raw):\n",
    "    if raw == 'n/a' :\n",
    "        return np.nan\n",
    "    elif '+' in raw :\n",
    "        return 10\n",
    "    elif '<' in raw :\n",
    "        return 0\n",
    "    else :\n",
    "        return int(re.sub(\"\\D\", \"\", raw))\n",
    "    \n",
    "def clean_last_week_pay(raw) :\n",
    "    try :\n",
    "        return int(re.sub(\"\\D\", \"\", raw))\n",
    "    except :\n",
    "        return -99999\n",
    "\n",
    "def clean_verification_status_joint(raw):\n",
    "    if type(raw) == str:\n",
    "        return 1\n",
    "    else :\n",
    "        return -99999"
   ]
  },
  {
   "cell_type": "code",
   "execution_count": 7,
   "metadata": {
    "collapsed": true
   },
   "outputs": [],
   "source": [
    "full_df['term'] = full_df['term'].apply(lambda x : int(re.sub(\"\\D\", \"\", x)))\n",
    "full_df['emp_length'] = full_df['emp_length'].apply(clean_emp_length)\n",
    "full_df['last_week_pay'] = full_df['last_week_pay'].apply(clean_last_week_pay)\n",
    "full_df['verification_status_joint'] = full_df['verification_status_joint'].apply(clean_verification_status_joint)"
   ]
  },
  {
   "cell_type": "code",
   "execution_count": 8,
   "metadata": {
    "collapsed": true
   },
   "outputs": [],
   "source": [
    "# Find columns with dtype object\n",
    "\n",
    "cols_list = full_df.columns\n",
    "cols_obj = []\n",
    "obj_list = full_df.dtypes.values\n",
    "for col, obj in zip(cols_list, obj_list):\n",
    "    if obj == object:\n",
    "        cols_obj.append(col)"
   ]
  },
  {
   "cell_type": "code",
   "execution_count": 9,
   "metadata": {
    "collapsed": true
   },
   "outputs": [],
   "source": [
    "# Change string values to number categories\n",
    "\n",
    "from sklearn import preprocessing\n",
    "\n",
    "le = preprocessing.LabelEncoder()\n",
    "for col in cols_obj:\n",
    "    full_df[col] = le.fit_transform(full_df[col])"
   ]
  },
  {
   "cell_type": "code",
   "execution_count": 10,
   "metadata": {
    "collapsed": true,
    "scrolled": true
   },
   "outputs": [],
   "source": [
    "# Fill null values\n",
    "cols_fill = ['emp_length', 'annual_inc','inq_last_6mths', 'tot_coll_amt', 'tot_cur_bal']\n",
    "for col in cols_fill:\n",
    "    full_df.loc[full_df[col].isnull(), col] = -99999"
   ]
  },
  {
   "cell_type": "markdown",
   "metadata": {},
   "source": [
    "### Feature Engineering"
   ]
  },
  {
   "cell_type": "code",
   "execution_count": 11,
   "metadata": {
    "collapsed": true
   },
   "outputs": [],
   "source": [
    "full_df['total_interest'] = full_df['funded_amnt']*full_df['int_rate']*full_df['term']/(100*12)"
   ]
  },
  {
   "cell_type": "code",
   "execution_count": 12,
   "metadata": {
    "collapsed": true
   },
   "outputs": [],
   "source": [
    "full_df['unpaid_int_perc'] = (full_df['total_interest'] - full_df['total_rec_int'])/full_df['total_interest']"
   ]
  },
  {
   "cell_type": "code",
   "execution_count": 13,
   "metadata": {
    "collapsed": true
   },
   "outputs": [],
   "source": [
    "full_df['loan_annual_inc_ratio'] = full_df['loan_amnt']/full_df['annual_inc']"
   ]
  },
  {
   "cell_type": "code",
   "execution_count": 14,
   "metadata": {
    "collapsed": true
   },
   "outputs": [],
   "source": [
    "full_df['funded_amnt_diff'] = full_df['loan_amnt'] - full_df['funded_amnt']"
   ]
  },
  {
   "cell_type": "code",
   "execution_count": 15,
   "metadata": {
    "collapsed": true
   },
   "outputs": [],
   "source": [
    "full_df['funded_amnt_funded_amnt_inv_diff'] = full_df['funded_amnt'] - full_df['funded_amnt_inv']"
   ]
  },
  {
   "cell_type": "code",
   "execution_count": 16,
   "metadata": {},
   "outputs": [
    {
     "data": {
      "text/html": [
       "<div>\n",
       "<style>\n",
       "    .dataframe thead tr:only-child th {\n",
       "        text-align: right;\n",
       "    }\n",
       "\n",
       "    .dataframe thead th {\n",
       "        text-align: left;\n",
       "    }\n",
       "\n",
       "    .dataframe tbody tr th {\n",
       "        vertical-align: top;\n",
       "    }\n",
       "</style>\n",
       "<table border=\"1\" class=\"dataframe\">\n",
       "  <thead>\n",
       "    <tr style=\"text-align: right;\">\n",
       "      <th></th>\n",
       "      <th>member_id</th>\n",
       "      <th>loan_amnt</th>\n",
       "      <th>funded_amnt</th>\n",
       "      <th>funded_amnt_inv</th>\n",
       "      <th>term</th>\n",
       "      <th>int_rate</th>\n",
       "      <th>grade</th>\n",
       "      <th>emp_length</th>\n",
       "      <th>home_ownership</th>\n",
       "      <th>annual_inc</th>\n",
       "      <th>...</th>\n",
       "      <th>application_type</th>\n",
       "      <th>verification_status_joint</th>\n",
       "      <th>last_week_pay</th>\n",
       "      <th>tot_coll_amt</th>\n",
       "      <th>tot_cur_bal</th>\n",
       "      <th>total_interest</th>\n",
       "      <th>unpaid_int_perc</th>\n",
       "      <th>loan_annual_inc_ratio</th>\n",
       "      <th>funded_amnt_diff</th>\n",
       "      <th>funded_amnt_funded_amnt_inv_diff</th>\n",
       "    </tr>\n",
       "  </thead>\n",
       "  <tbody>\n",
       "    <tr>\n",
       "      <th>0</th>\n",
       "      <td>45670841</td>\n",
       "      <td>35000</td>\n",
       "      <td>35000</td>\n",
       "      <td>35000.0</td>\n",
       "      <td>36</td>\n",
       "      <td>18.84</td>\n",
       "      <td>4</td>\n",
       "      <td>10.0</td>\n",
       "      <td>1</td>\n",
       "      <td>250000.0</td>\n",
       "      <td>...</td>\n",
       "      <td>0</td>\n",
       "      <td>-99999</td>\n",
       "      <td>44</td>\n",
       "      <td>0.0</td>\n",
       "      <td>1172167.0</td>\n",
       "      <td>19782.0000</td>\n",
       "      <td>0.753143</td>\n",
       "      <td>0.140000</td>\n",
       "      <td>0</td>\n",
       "      <td>0.0</td>\n",
       "    </tr>\n",
       "    <tr>\n",
       "      <th>1</th>\n",
       "      <td>69604705</td>\n",
       "      <td>18000</td>\n",
       "      <td>18000</td>\n",
       "      <td>18000.0</td>\n",
       "      <td>60</td>\n",
       "      <td>7.89</td>\n",
       "      <td>0</td>\n",
       "      <td>0.0</td>\n",
       "      <td>1</td>\n",
       "      <td>90000.0</td>\n",
       "      <td>...</td>\n",
       "      <td>0</td>\n",
       "      <td>-99999</td>\n",
       "      <td>4</td>\n",
       "      <td>0.0</td>\n",
       "      <td>427348.0</td>\n",
       "      <td>7101.0000</td>\n",
       "      <td>0.984444</td>\n",
       "      <td>0.200000</td>\n",
       "      <td>0</td>\n",
       "      <td>0.0</td>\n",
       "    </tr>\n",
       "    <tr>\n",
       "      <th>2</th>\n",
       "      <td>55346416</td>\n",
       "      <td>16175</td>\n",
       "      <td>16175</td>\n",
       "      <td>16175.0</td>\n",
       "      <td>36</td>\n",
       "      <td>13.99</td>\n",
       "      <td>2</td>\n",
       "      <td>0.0</td>\n",
       "      <td>5</td>\n",
       "      <td>46000.0</td>\n",
       "      <td>...</td>\n",
       "      <td>0</td>\n",
       "      <td>-99999</td>\n",
       "      <td>31</td>\n",
       "      <td>0.0</td>\n",
       "      <td>27540.0</td>\n",
       "      <td>6788.6475</td>\n",
       "      <td>0.820799</td>\n",
       "      <td>0.351630</td>\n",
       "      <td>0</td>\n",
       "      <td>0.0</td>\n",
       "    </tr>\n",
       "    <tr>\n",
       "      <th>3</th>\n",
       "      <td>18614915</td>\n",
       "      <td>10000</td>\n",
       "      <td>10000</td>\n",
       "      <td>10000.0</td>\n",
       "      <td>60</td>\n",
       "      <td>15.61</td>\n",
       "      <td>3</td>\n",
       "      <td>10.0</td>\n",
       "      <td>1</td>\n",
       "      <td>90000.0</td>\n",
       "      <td>...</td>\n",
       "      <td>0</td>\n",
       "      <td>-99999</td>\n",
       "      <td>83</td>\n",
       "      <td>0.0</td>\n",
       "      <td>62780.0</td>\n",
       "      <td>7805.0000</td>\n",
       "      <td>0.717438</td>\n",
       "      <td>0.111111</td>\n",
       "      <td>0</td>\n",
       "      <td>0.0</td>\n",
       "    </tr>\n",
       "    <tr>\n",
       "      <th>4</th>\n",
       "      <td>18473862</td>\n",
       "      <td>17325</td>\n",
       "      <td>17325</td>\n",
       "      <td>17325.0</td>\n",
       "      <td>36</td>\n",
       "      <td>17.57</td>\n",
       "      <td>3</td>\n",
       "      <td>4.0</td>\n",
       "      <td>5</td>\n",
       "      <td>78000.0</td>\n",
       "      <td>...</td>\n",
       "      <td>0</td>\n",
       "      <td>-99999</td>\n",
       "      <td>87</td>\n",
       "      <td>0.0</td>\n",
       "      <td>15720.0</td>\n",
       "      <td>9132.0075</td>\n",
       "      <td>0.567355</td>\n",
       "      <td>0.222115</td>\n",
       "      <td>0</td>\n",
       "      <td>0.0</td>\n",
       "    </tr>\n",
       "  </tbody>\n",
       "</table>\n",
       "<p>5 rows × 26 columns</p>\n",
       "</div>"
      ],
      "text/plain": [
       "   member_id  loan_amnt  funded_amnt  funded_amnt_inv  term  int_rate  grade  \\\n",
       "0   45670841      35000        35000          35000.0    36     18.84      4   \n",
       "1   69604705      18000        18000          18000.0    60      7.89      0   \n",
       "2   55346416      16175        16175          16175.0    36     13.99      2   \n",
       "3   18614915      10000        10000          10000.0    60     15.61      3   \n",
       "4   18473862      17325        17325          17325.0    36     17.57      3   \n",
       "\n",
       "   emp_length  home_ownership  annual_inc                ...                 \\\n",
       "0        10.0               1    250000.0                ...                  \n",
       "1         0.0               1     90000.0                ...                  \n",
       "2         0.0               5     46000.0                ...                  \n",
       "3        10.0               1     90000.0                ...                  \n",
       "4         4.0               5     78000.0                ...                  \n",
       "\n",
       "   application_type  verification_status_joint  last_week_pay  tot_coll_amt  \\\n",
       "0                 0                     -99999             44           0.0   \n",
       "1                 0                     -99999              4           0.0   \n",
       "2                 0                     -99999             31           0.0   \n",
       "3                 0                     -99999             83           0.0   \n",
       "4                 0                     -99999             87           0.0   \n",
       "\n",
       "   tot_cur_bal  total_interest  unpaid_int_perc  loan_annual_inc_ratio  \\\n",
       "0    1172167.0      19782.0000         0.753143               0.140000   \n",
       "1     427348.0       7101.0000         0.984444               0.200000   \n",
       "2      27540.0       6788.6475         0.820799               0.351630   \n",
       "3      62780.0       7805.0000         0.717438               0.111111   \n",
       "4      15720.0       9132.0075         0.567355               0.222115   \n",
       "\n",
       "   funded_amnt_diff  funded_amnt_funded_amnt_inv_diff  \n",
       "0                 0                               0.0  \n",
       "1                 0                               0.0  \n",
       "2                 0                               0.0  \n",
       "3                 0                               0.0  \n",
       "4                 0                               0.0  \n",
       "\n",
       "[5 rows x 26 columns]"
      ]
     },
     "execution_count": 16,
     "metadata": {},
     "output_type": "execute_result"
    }
   ],
   "source": [
    "full_df.head()"
   ]
  },
  {
   "cell_type": "code",
   "execution_count": 17,
   "metadata": {
    "collapsed": true
   },
   "outputs": [],
   "source": [
    "train_clean = full_df[:size_train]\n",
    "test_clean = full_df[size_train:]"
   ]
  },
  {
   "cell_type": "markdown",
   "metadata": {},
   "source": [
    "### Gradient Booster Classifier"
   ]
  },
  {
   "cell_type": "code",
   "execution_count": 18,
   "metadata": {
    "scrolled": true
   },
   "outputs": [
    {
     "name": "stdout",
     "output_type": "stream",
     "text": [
      "accuracy: 88.62\n",
      "accuracy: 88.59\n",
      "accuracy: 88.85\n",
      "accuracy: 88.73\n",
      "accuracy: 88.64\n",
      "accuracy: 89.48\n",
      "accuracy: 88.35\n",
      "accuracy: 88.99\n",
      "accuracy: 88.26\n",
      "accuracy: 88.87\n",
      "avg_accuracy: 88.74\n"
     ]
    }
   ],
   "source": [
    "from sklearn.model_selection import KFold\n",
    "from sklearn.ensemble import GradientBoostingClassifier\n",
    "from sklearn.metrics import accuracy_score\n",
    "\n",
    "kf = KFold(n_splits=10, random_state=1, shuffle=True)\n",
    "\n",
    "accuracy_sum = 0\n",
    "for train_index, test_index in kf.split(train_clean):\n",
    "    gbk = GradientBoostingClassifier()\n",
    "    gbk.fit(train_clean.iloc[train_index].values, target[train_index])\n",
    "    pred = gbk.predict(train_clean.iloc[test_index].values)\n",
    "    acc_gbk = round(accuracy_score(pred, target[test_index]) * 100, 2)\n",
    "#     print(pred)\n",
    "    print(\"accuracy:\", acc_gbk)\n",
    "    accuracy_sum += acc_gbk\n",
    "    \n",
    "\n",
    "accuracy_avg = round(accuracy_sum/10, 2)\n",
    "print(\"avg_accuracy:\", accuracy_avg)"
   ]
  },
  {
   "cell_type": "markdown",
   "metadata": {},
   "source": [
    "### Final Prediction On Test Data"
   ]
  },
  {
   "cell_type": "code",
   "execution_count": 19,
   "metadata": {},
   "outputs": [
    {
     "name": "stdout",
     "output_type": "stream",
     "text": [
      "[0 1 1 ..., 1 0 1]\n"
     ]
    }
   ],
   "source": [
    "gbk = GradientBoostingClassifier()\n",
    "gbk.fit(train_clean.values, target)\n",
    "\n",
    "# To predict probability values\n",
    "# pred = gbk.predict_proba(test_clean.values)[:,1]\n",
    "\n",
    "# To predict class values\n",
    "pred = gbk.predict(test_clean.values)\n",
    "\n",
    "print(pred)"
   ]
  },
  {
   "cell_type": "code",
   "execution_count": 20,
   "metadata": {},
   "outputs": [
    {
     "data": {
      "text/plain": [
       "True"
      ]
     },
     "execution_count": 20,
     "metadata": {},
     "output_type": "execute_result"
    }
   ],
   "source": [
    "len(pred) == test_clean.shape[0]"
   ]
  },
  {
   "cell_type": "code",
   "execution_count": 21,
   "metadata": {
    "collapsed": true
   },
   "outputs": [],
   "source": [
    "# Add prediction column to test_data.csv\n",
    "\n",
    "final_data = pd.read_csv('test_data.csv')\n",
    "final_data['loan_status'] = pred"
   ]
  },
  {
   "cell_type": "code",
   "execution_count": 22,
   "metadata": {},
   "outputs": [
    {
     "data": {
      "text/html": [
       "<div>\n",
       "<style>\n",
       "    .dataframe thead tr:only-child th {\n",
       "        text-align: right;\n",
       "    }\n",
       "\n",
       "    .dataframe thead th {\n",
       "        text-align: left;\n",
       "    }\n",
       "\n",
       "    .dataframe tbody tr th {\n",
       "        vertical-align: top;\n",
       "    }\n",
       "</style>\n",
       "<table border=\"1\" class=\"dataframe\">\n",
       "  <thead>\n",
       "    <tr style=\"text-align: right;\">\n",
       "      <th></th>\n",
       "      <th>member_id</th>\n",
       "      <th>loan_amnt</th>\n",
       "      <th>funded_amnt</th>\n",
       "      <th>funded_amnt_inv</th>\n",
       "      <th>term</th>\n",
       "      <th>batch_enrolled</th>\n",
       "      <th>int_rate</th>\n",
       "      <th>grade</th>\n",
       "      <th>emp_title</th>\n",
       "      <th>emp_length</th>\n",
       "      <th>...</th>\n",
       "      <th>zip_code</th>\n",
       "      <th>inq_last_6mths</th>\n",
       "      <th>total_rec_int</th>\n",
       "      <th>total_rec_late_fee</th>\n",
       "      <th>application_type</th>\n",
       "      <th>verification_status_joint</th>\n",
       "      <th>last_week_pay</th>\n",
       "      <th>tot_coll_amt</th>\n",
       "      <th>tot_cur_bal</th>\n",
       "      <th>loan_status</th>\n",
       "    </tr>\n",
       "  </thead>\n",
       "  <tbody>\n",
       "    <tr>\n",
       "      <th>0</th>\n",
       "      <td>46202640</td>\n",
       "      <td>35000</td>\n",
       "      <td>35000</td>\n",
       "      <td>35000.00</td>\n",
       "      <td>60 months</td>\n",
       "      <td>NaN</td>\n",
       "      <td>12.69</td>\n",
       "      <td>C</td>\n",
       "      <td>Owner</td>\n",
       "      <td>2 years</td>\n",
       "      <td>...</td>\n",
       "      <td>303xx</td>\n",
       "      <td>0</td>\n",
       "      <td>3445.95</td>\n",
       "      <td>0.000000</td>\n",
       "      <td>INDIVIDUAL</td>\n",
       "      <td>NaN</td>\n",
       "      <td>44th week</td>\n",
       "      <td>0.0</td>\n",
       "      <td>37591.0</td>\n",
       "      <td>0</td>\n",
       "    </tr>\n",
       "    <tr>\n",
       "      <th>1</th>\n",
       "      <td>635220</td>\n",
       "      <td>16000</td>\n",
       "      <td>16000</td>\n",
       "      <td>15825.00</td>\n",
       "      <td>36 months</td>\n",
       "      <td>BAT5785461</td>\n",
       "      <td>16.82</td>\n",
       "      <td>E</td>\n",
       "      <td>TurboChef Technologies Inc</td>\n",
       "      <td>1 year</td>\n",
       "      <td>...</td>\n",
       "      <td>750xx</td>\n",
       "      <td>5</td>\n",
       "      <td>4467.49</td>\n",
       "      <td>0.000000</td>\n",
       "      <td>INDIVIDUAL</td>\n",
       "      <td>NaN</td>\n",
       "      <td>161th week</td>\n",
       "      <td>NaN</td>\n",
       "      <td>NaN</td>\n",
       "      <td>1</td>\n",
       "    </tr>\n",
       "    <tr>\n",
       "      <th>2</th>\n",
       "      <td>327746</td>\n",
       "      <td>9600</td>\n",
       "      <td>9600</td>\n",
       "      <td>1964.43</td>\n",
       "      <td>36 months</td>\n",
       "      <td>BAT5278942</td>\n",
       "      <td>13.87</td>\n",
       "      <td>D</td>\n",
       "      <td>St. Elizabeth Medical Centers</td>\n",
       "      <td>10+ years</td>\n",
       "      <td>...</td>\n",
       "      <td>410xx</td>\n",
       "      <td>3</td>\n",
       "      <td>2152.80</td>\n",
       "      <td>16.375499</td>\n",
       "      <td>INDIVIDUAL</td>\n",
       "      <td>NaN</td>\n",
       "      <td>139th week</td>\n",
       "      <td>NaN</td>\n",
       "      <td>NaN</td>\n",
       "      <td>1</td>\n",
       "    </tr>\n",
       "    <tr>\n",
       "      <th>3</th>\n",
       "      <td>46182333</td>\n",
       "      <td>9000</td>\n",
       "      <td>9000</td>\n",
       "      <td>9000.00</td>\n",
       "      <td>36 months</td>\n",
       "      <td>BAT4268557</td>\n",
       "      <td>7.89</td>\n",
       "      <td>A</td>\n",
       "      <td>salesman</td>\n",
       "      <td>10+ years</td>\n",
       "      <td>...</td>\n",
       "      <td>284xx</td>\n",
       "      <td>0</td>\n",
       "      <td>493.45</td>\n",
       "      <td>0.000000</td>\n",
       "      <td>INDIVIDUAL</td>\n",
       "      <td>NaN</td>\n",
       "      <td>39th week</td>\n",
       "      <td>725.0</td>\n",
       "      <td>24270.0</td>\n",
       "      <td>0</td>\n",
       "    </tr>\n",
       "    <tr>\n",
       "      <th>4</th>\n",
       "      <td>71128448</td>\n",
       "      <td>21000</td>\n",
       "      <td>21000</td>\n",
       "      <td>21000.00</td>\n",
       "      <td>60 months</td>\n",
       "      <td>BAT6004464</td>\n",
       "      <td>7.89</td>\n",
       "      <td>A</td>\n",
       "      <td>ROUTE SALES</td>\n",
       "      <td>10+ years</td>\n",
       "      <td>...</td>\n",
       "      <td>322xx</td>\n",
       "      <td>0</td>\n",
       "      <td>128.88</td>\n",
       "      <td>0.000000</td>\n",
       "      <td>INDIVIDUAL</td>\n",
       "      <td>NaN</td>\n",
       "      <td>4th week</td>\n",
       "      <td>0.0</td>\n",
       "      <td>248545.0</td>\n",
       "      <td>0</td>\n",
       "    </tr>\n",
       "  </tbody>\n",
       "</table>\n",
       "<p>5 rows × 26 columns</p>\n",
       "</div>"
      ],
      "text/plain": [
       "   member_id  loan_amnt  funded_amnt  funded_amnt_inv       term  \\\n",
       "0   46202640      35000        35000         35000.00  60 months   \n",
       "1     635220      16000        16000         15825.00  36 months   \n",
       "2     327746       9600         9600          1964.43  36 months   \n",
       "3   46182333       9000         9000          9000.00  36 months   \n",
       "4   71128448      21000        21000         21000.00  60 months   \n",
       "\n",
       "  batch_enrolled  int_rate grade                      emp_title emp_length  \\\n",
       "0            NaN     12.69     C                          Owner    2 years   \n",
       "1     BAT5785461     16.82     E     TurboChef Technologies Inc     1 year   \n",
       "2     BAT5278942     13.87     D  St. Elizabeth Medical Centers  10+ years   \n",
       "3     BAT4268557      7.89     A                       salesman  10+ years   \n",
       "4     BAT6004464      7.89     A                    ROUTE SALES  10+ years   \n",
       "\n",
       "      ...      zip_code  inq_last_6mths total_rec_int total_rec_late_fee  \\\n",
       "0     ...         303xx               0       3445.95           0.000000   \n",
       "1     ...         750xx               5       4467.49           0.000000   \n",
       "2     ...         410xx               3       2152.80          16.375499   \n",
       "3     ...         284xx               0        493.45           0.000000   \n",
       "4     ...         322xx               0        128.88           0.000000   \n",
       "\n",
       "  application_type verification_status_joint last_week_pay  tot_coll_amt  \\\n",
       "0       INDIVIDUAL                       NaN     44th week           0.0   \n",
       "1       INDIVIDUAL                       NaN    161th week           NaN   \n",
       "2       INDIVIDUAL                       NaN    139th week           NaN   \n",
       "3       INDIVIDUAL                       NaN     39th week         725.0   \n",
       "4       INDIVIDUAL                       NaN      4th week           0.0   \n",
       "\n",
       "   tot_cur_bal  loan_status  \n",
       "0      37591.0            0  \n",
       "1          NaN            1  \n",
       "2          NaN            1  \n",
       "3      24270.0            0  \n",
       "4     248545.0            0  \n",
       "\n",
       "[5 rows x 26 columns]"
      ]
     },
     "execution_count": 22,
     "metadata": {},
     "output_type": "execute_result"
    }
   ],
   "source": [
    "final_data.head()"
   ]
  },
  {
   "cell_type": "code",
   "execution_count": 23,
   "metadata": {
    "collapsed": true
   },
   "outputs": [],
   "source": [
    "final_data.to_csv('prediction.csv', index = False)"
   ]
  }
 ],
 "metadata": {
  "kernelspec": {
   "display_name": "Python 3",
   "language": "python",
   "name": "python3"
  },
  "language_info": {
   "codemirror_mode": {
    "name": "ipython",
    "version": 3
   },
   "file_extension": ".py",
   "mimetype": "text/x-python",
   "name": "python",
   "nbconvert_exporter": "python",
   "pygments_lexer": "ipython3",
   "version": "3.6.3"
  }
 },
 "nbformat": 4,
 "nbformat_minor": 2
}
